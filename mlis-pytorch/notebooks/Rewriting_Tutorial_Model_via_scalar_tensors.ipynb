{
 "cells": [
  {
   "cell_type": "markdown",
   "metadata": {},
   "source": [
    "<a href=\"https://colab.research.google.com/github/romankoshlyak/mlis_judge/blob/master/mlis-pytorch/notebooks/Rewriting_Tutorial_Model_via_scalar_tensors.ipynb\" target=\"_parent\"><img src=\"https://colab.research.google.com/assets/colab-badge.svg\" alt=\"Open In Colab\"></a>\n"
   ]
  },
  {
   "cell_type": "markdown",
   "metadata": {
    "colab_type": "text",
    "id": "Q3ROioaJl4QN"
   },
   "source": [
    "# Define Tutorial Model class"
   ]
  },
  {
   "cell_type": "code",
   "execution_count": 0,
   "metadata": {
    "colab": {},
    "colab_type": "code",
    "id": "s7EulkiEkXsw"
   },
   "outputs": [],
   "source": [
    "import torch\n",
    "import torch.nn as nn\n",
    "\n",
    "class TutorialModel(nn.Module):\n",
    "    def __init__(self):\n",
    "        super(TutorialModel, self).__init__()\n",
    "        self.linear1 = nn.Linear(1, 2)\n",
    "        self.linear2 = nn.Linear(2, 1)\n",
    "\n",
    "    def forward(self, x):\n",
    "        x = self.linear1(x)\n",
    "        x = torch.sigmoid(x)\n",
    "        x = self.linear2(x)\n",
    "        return x"
   ]
  },
  {
   "cell_type": "markdown",
   "metadata": {
    "colab_type": "text",
    "id": "kMWtvxpnmkmh"
   },
   "source": [
    "# Explore model"
   ]
  },
  {
   "cell_type": "code",
   "execution_count": 0,
   "metadata": {
    "colab": {},
    "colab_type": "code",
    "id": "-8g9UAGmmpoC"
   },
   "outputs": [],
   "source": [
    "model = TutorialModel()\n",
    "\n",
    "print(\"model={}\".format(model))\n",
    "print(\"model_linear1={}\".format(model.linear1))\n",
    "print(\"model_linear1_weights={}\".format(model.linear1.weight))\n",
    "print(\"model_linear1_bias={}\".format(model.linear1.bias))\n",
    "\n",
    "input_tensor = torch.FloatTensor([0.0, 0.5, 1.0]).view(-1, 1)\n",
    "print(\"model()={}\".format(model(input_tensor)))\n",
    "\n",
    "class TutorialModelPrint(nn.Module):\n",
    "    def __init__(self):\n",
    "        super(TutorialModelPrint, self).__init__()\n",
    "        self.linear1 = nn.Linear(1, 2)\n",
    "        self.linear2 = nn.Linear(2, 1)\n",
    "\n",
    "    def forward(self, x):\n",
    "        print(\"forward_x={}\".format(x))\n",
    "        x = self.linear1(x)\n",
    "        print(\"forward_linear1={}\".format(x))\n",
    "        x = torch.sigmoid(x)\n",
    "        print(\"forward_sigmoid={}\".format(x))\n",
    "        x = self.linear2(x)\n",
    "        print(\"forward_linear2={}\".format(x))\n",
    "        return x\n",
    "\n",
    "print_model = TutorialModelPrint()\n",
    "print(\"print_model()={}\".format(print_model(input_tensor)))"
   ]
  },
  {
   "cell_type": "markdown",
   "metadata": {
    "colab_type": "text",
    "id": "bhwo-5QXpXPe"
   },
   "source": [
    "# Copy parameters\n",
    "\n",
    "As we can see model and print model calculate different values on same input.\n",
    "It is because they initialized randomly and have different parameters, let's copy parameters."
   ]
  },
  {
   "cell_type": "code",
   "execution_count": 0,
   "metadata": {
    "colab": {},
    "colab_type": "code",
    "id": "dCWNGf03pGJZ"
   },
   "outputs": [],
   "source": [
    "model_parameters = torch.nn.utils.parameters_to_vector(model.parameters())\n",
    "torch.nn.utils.vector_to_parameters(model_parameters, print_model.parameters())\n",
    "\n",
    "print(\"model()={}\".format(model(input_tensor)))\n",
    "print(\"print_model()={}\".format(print_model(input_tensor)))"
   ]
  },
  {
   "cell_type": "markdown",
   "metadata": {
    "colab_type": "text",
    "id": "0YCpPE1bukEy"
   },
   "source": [
    "# Rewrite model"
   ]
  },
  {
   "cell_type": "code",
   "execution_count": 0,
   "metadata": {
    "colab": {},
    "colab_type": "code",
    "id": "CsXak4trrU-4"
   },
   "outputs": [],
   "source": [
    "class Linear12(nn.Module):\n",
    "    def __init__(self):\n",
    "        super(Linear12, self).__init__()\n",
    "        self.weight1 = nn.Parameter(torch.tensor(0.1))\n",
    "        self.weight2 = nn.Parameter(torch.tensor(0.2))\n",
    "        self.bias1 = nn.Parameter(torch.tensor(0.3))\n",
    "        self.bias2 = nn.Parameter(torch.tensor(0.4))\n",
    "\n",
    "    def forward(self, x):\n",
    "        return torch.cat((x*self.weight1+self.bias1, x*self.weight2+self.bias2), dim=1)\n",
    "\n",
    "class Linear21(nn.Module):\n",
    "    def __init__(self):\n",
    "        super(Linear21, self).__init__()\n",
    "        self.weight1 = nn.Parameter(torch.tensor(0.1))\n",
    "        self.weight2 = nn.Parameter(torch.tensor(0.2))\n",
    "        self.bias = nn.Parameter(torch.tensor(0.3))\n",
    "\n",
    "    def forward(self, x):\n",
    "        return x[:,0:1]*self.weight1+x[:,1:2]*self.weight2+self.bias\n",
    "\n",
    "class TutorialModelRewrite(nn.Module):\n",
    "    def __init__(self):\n",
    "        super(TutorialModelRewrite, self).__init__()\n",
    "        self.linear1 = Linear12()\n",
    "        self.linear2 = Linear21()\n",
    "\n",
    "    def forward(self, x):\n",
    "        x = self.linear1(x)\n",
    "        x = torch.sigmoid(x)\n",
    "        x = self.linear2(x)\n",
    "        return x\n",
    "\n",
    "model_rewrite = TutorialModelRewrite()\n",
    "print(\"model()={}\".format(model(input_tensor)))\n",
    "print(\"model_rewrite()={}\".format(model_rewrite(input_tensor)))\n",
    "\n",
    "model_parameters = torch.nn.utils.parameters_to_vector(model.parameters())\n",
    "torch.nn.utils.vector_to_parameters(model_parameters, model_rewrite.parameters())\n",
    "\n",
    "print(\"model()={}\".format(model(input_tensor)))\n",
    "print(\"model_rewrite()={}\".format(model_rewrite(input_tensor)))"
   ]
  }
 ],
 "metadata": {
  "colab": {
   "name": "Rewriting Tutorial Model via scalar tensors.ipynb",
   "provenance": []
  },
  "kernelspec": {
   "display_name": "Python 3",
   "language": "python",
   "name": "python3"
  },
  "language_info": {
   "codemirror_mode": {
    "name": "ipython",
    "version": 3
   },
   "file_extension": ".py",
   "mimetype": "text/x-python",
   "name": "python",
   "nbconvert_exporter": "python",
   "pygments_lexer": "ipython3",
   "version": "3.6.9"
  }
 },
 "nbformat": 4,
 "nbformat_minor": 1
}
