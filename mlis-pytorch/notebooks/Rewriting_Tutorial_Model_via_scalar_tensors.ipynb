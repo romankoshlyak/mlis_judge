{
  "nbformat": 4,
  "nbformat_minor": 0,
  "metadata": {
    "colab": {
      "name": "Rewriting Tutorial Model via scalar tensors.ipynb",
      "provenance": []
    },
    "kernelspec": {
      "name": "python3",
      "display_name": "Python 3"
    }
  },
  "cells": [
    {
      "cell_type": "markdown",
      "metadata": {
        "id": "Q3ROioaJl4QN",
        "colab_type": "text"
      },
      "source": [
        "# Define Tutorial Model class"
      ]
    },
    {
      "cell_type": "code",
      "metadata": {
        "id": "s7EulkiEkXsw",
        "colab_type": "code",
        "colab": {}
      },
      "source": [
        "import torch\n",
        "import torch.nn as nn\n",
        "\n",
        "class TutorialModel(nn.Module):\n",
        "    def __init__(self):\n",
        "        super(TutorialModel, self).__init__()\n",
        "        self.linear1 = nn.Linear(1, 2)\n",
        "        self.linear2 = nn.Linear(2, 1)\n",
        "\n",
        "    def forward(self, x):\n",
        "        x = self.linear1(x)\n",
        "        x = torch.sigmoid(x)\n",
        "        x = self.linear2(x)\n",
        "        return x"
      ],
      "execution_count": 0,
      "outputs": []
    },
    {
      "cell_type": "markdown",
      "metadata": {
        "id": "kMWtvxpnmkmh",
        "colab_type": "text"
      },
      "source": [
        "# Explore model"
      ]
    },
    {
      "cell_type": "code",
      "metadata": {
        "id": "-8g9UAGmmpoC",
        "colab_type": "code",
        "colab": {}
      },
      "source": [
        "model = TutorialModel()\n",
        "\n",
        "print(\"model={}\".format(model))\n",
        "print(\"model_linear1={}\".format(model.linear1))\n",
        "print(\"model_linear1_weights={}\".format(model.linear1.weight))\n",
        "print(\"model_linear1_bias={}\".format(model.linear1.bias))\n",
        "\n",
        "input_tensor = torch.FloatTensor([0.0, 0.5, 1.0]).view(-1, 1)\n",
        "print(\"model()={}\".format(model(input_tensor)))\n",
        "\n",
        "class TutorialModelPrint(nn.Module):\n",
        "    def __init__(self):\n",
        "        super(TutorialModelPrint, self).__init__()\n",
        "        self.linear1 = nn.Linear(1, 2)\n",
        "        self.linear2 = nn.Linear(2, 1)\n",
        "\n",
        "    def forward(self, x):\n",
        "        print(\"forward_x={}\".format(x))\n",
        "        x = self.linear1(x)\n",
        "        print(\"forward_linear1={}\".format(x))\n",
        "        x = torch.sigmoid(x)\n",
        "        print(\"forward_sigmoid={}\".format(x))\n",
        "        x = self.linear2(x)\n",
        "        print(\"forward_linear2={}\".format(x))\n",
        "        return x\n",
        "\n",
        "print_model = TutorialModelPrint()\n",
        "print(\"print_model()={}\".format(print_model(input_tensor)))"
      ],
      "execution_count": 0,
      "outputs": []
    },
    {
      "cell_type": "markdown",
      "metadata": {
        "id": "bhwo-5QXpXPe",
        "colab_type": "text"
      },
      "source": [
        "# Copy parameters\n",
        "\n",
        "As we can see model and print model calculate different values on same input.\n",
        "It is because they initialized randomly and have different parameters, let's copy parameters."
      ]
    },
    {
      "cell_type": "code",
      "metadata": {
        "id": "dCWNGf03pGJZ",
        "colab_type": "code",
        "colab": {}
      },
      "source": [
        "model_parameters = torch.nn.utils.parameters_to_vector(model.parameters())\n",
        "torch.nn.utils.vector_to_parameters(model_parameters, print_model.parameters())\n",
        "\n",
        "print(\"model()={}\".format(model(input_tensor)))\n",
        "print(\"print_model()={}\".format(print_model(input_tensor)))"
      ],
      "execution_count": 0,
      "outputs": []
    },
    {
      "cell_type": "markdown",
      "metadata": {
        "id": "0YCpPE1bukEy",
        "colab_type": "text"
      },
      "source": [
        "# Rewrite model"
      ]
    },
    {
      "cell_type": "code",
      "metadata": {
        "id": "CsXak4trrU-4",
        "colab_type": "code",
        "colab": {}
      },
      "source": [
        "class Linear12(nn.Module):\n",
        "    def __init__(self):\n",
        "        super(Linear12, self).__init__()\n",
        "        self.weight1 = nn.Parameter(torch.tensor(0.1))\n",
        "        self.weight2 = nn.Parameter(torch.tensor(0.2))\n",
        "        self.bias1 = nn.Parameter(torch.tensor(0.3))\n",
        "        self.bias2 = nn.Parameter(torch.tensor(0.4))\n",
        "\n",
        "    def forward(self, x):\n",
        "        return torch.cat((x*self.weight1+self.bias1, x*self.weight2+self.bias2), dim=1)\n",
        "\n",
        "class Linear21(nn.Module):\n",
        "    def __init__(self):\n",
        "        super(Linear21, self).__init__()\n",
        "        self.weight1 = nn.Parameter(torch.tensor(0.1))\n",
        "        self.weight2 = nn.Parameter(torch.tensor(0.2))\n",
        "        self.bias = nn.Parameter(torch.tensor(0.3))\n",
        "\n",
        "    def forward(self, x):\n",
        "        return x[:,0:1]*self.weight1+x[:,1:2]*self.weight2+self.bias\n",
        "\n",
        "class TutorialModelRewrite(nn.Module):\n",
        "    def __init__(self):\n",
        "        super(TutorialModelRewrite, self).__init__()\n",
        "        self.linear1 = Linear12()\n",
        "        self.linear2 = Linear21()\n",
        "\n",
        "    def forward(self, x):\n",
        "        x = self.linear1(x)\n",
        "        x = torch.sigmoid(x)\n",
        "        x = self.linear2(x)\n",
        "        return x\n",
        "\n",
        "model_rewrite = TutorialModelRewrite()\n",
        "print(\"model()={}\".format(model(input_tensor)))\n",
        "print(\"model_rewrite()={}\".format(model_rewrite(input_tensor)))\n",
        "\n",
        "model_parameters = torch.nn.utils.parameters_to_vector(model.parameters())\n",
        "torch.nn.utils.vector_to_parameters(model_parameters, model_rewrite.parameters())\n",
        "\n",
        "print(\"model()={}\".format(model(input_tensor)))\n",
        "print(\"model_rewrite()={}\".format(model_rewrite(input_tensor)))"
      ],
      "execution_count": 0,
      "outputs": []
    }
  ]
}